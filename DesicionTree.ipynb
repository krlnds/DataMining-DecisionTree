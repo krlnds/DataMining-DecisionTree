{
  "nbformat": 4,
  "nbformat_minor": 0,
  "metadata": {
    "colab": {
      "provenance": []
    },
    "kernelspec": {
      "name": "python3",
      "display_name": "Python 3"
    },
    "language_info": {
      "name": "python"
    }
  },
  "cells": [
    {
      "cell_type": "code",
      "execution_count": null,
      "metadata": {
        "id": "4bSynMePjX9L"
      },
      "outputs": [],
      "source": [
        "# import library\n",
        "import numpy as np\n",
        "import matplotlib.pyplot as plt\n",
        "import pandas as pd\n",
        "from sklearn import tree"
      ]
    },
    {
      "cell_type": "code",
      "source": [
        "# membaca dataset\n",
        "dataset = pd.read_excel(\"Data Prestasi Siswa.xlsx\")"
      ],
      "metadata": {
        "id": "HZPH0jvgn7Yz"
      },
      "execution_count": null,
      "outputs": []
    },
    {
      "cell_type": "code",
      "source": [
        "print(dataset)"
      ],
      "metadata": {
        "colab": {
          "base_uri": "https://localhost:8080/"
        },
        "id": "aYIl2fKsoOJD",
        "outputId": "3db40e45-bc6d-4eaa-9511-ae4da76faa09"
      },
      "execution_count": null,
      "outputs": [
        {
          "output_type": "stream",
          "name": "stdout",
          "text": [
            "   No. JenisKelamin TingkatPendidikan KeaktifanEkstrakurikuler  \\\n",
            "0    1    Laki-laki               SMP                       Ya   \n",
            "1    2    Perempuan               SMP                    Tidak   \n",
            "2    3    Laki-laki               SMP                       Ya   \n",
            "3    4    Perempuan               SMP                       Ya   \n",
            "4    5    Laki-laki               SMP                    Tidak   \n",
            "5    6    Perempuan               SMP                    Tidak   \n",
            "6    7    Laki-laki               SMA                       Ya   \n",
            "7    8    Perempuan               SMA                    Tidak   \n",
            "8    9    Laki-laki               SMA                       Ya   \n",
            "\n",
            "  PrestasiAkademik  \n",
            "0             Baik  \n",
            "1       Cukup Baik  \n",
            "2             Baik  \n",
            "3             Baik  \n",
            "4       Cukup Baik  \n",
            "5       Cukup Baik  \n",
            "6             Baik  \n",
            "7             Baik  \n",
            "8             Baik  \n"
          ]
        }
      ]
    },
    {
      "cell_type": "code",
      "source": [
        "dataset.head()"
      ],
      "metadata": {
        "colab": {
          "base_uri": "https://localhost:8080/",
          "height": 206
        },
        "id": "sg2z6J_d6Ccy",
        "outputId": "4987f862-57d2-4bb5-8534-54c3e6f8af8b"
      },
      "execution_count": null,
      "outputs": [
        {
          "output_type": "execute_result",
          "data": {
            "text/plain": [
              "   No. JenisKelamin TingkatPendidikan KeaktifanEkstrakurikuler  \\\n",
              "0    1    Laki-laki               SMP                       Ya   \n",
              "1    2    Perempuan               SMP                    Tidak   \n",
              "2    3    Laki-laki               SMP                       Ya   \n",
              "3    4    Perempuan               SMP                       Ya   \n",
              "4    5    Laki-laki               SMP                    Tidak   \n",
              "\n",
              "  PrestasiAkademik  \n",
              "0             Baik  \n",
              "1       Cukup Baik  \n",
              "2             Baik  \n",
              "3             Baik  \n",
              "4       Cukup Baik  "
            ],
            "text/html": [
              "\n",
              "  <div id=\"df-8ba4da83-5d4b-4652-8ab6-045889703517\">\n",
              "    <div class=\"colab-df-container\">\n",
              "      <div>\n",
              "<style scoped>\n",
              "    .dataframe tbody tr th:only-of-type {\n",
              "        vertical-align: middle;\n",
              "    }\n",
              "\n",
              "    .dataframe tbody tr th {\n",
              "        vertical-align: top;\n",
              "    }\n",
              "\n",
              "    .dataframe thead th {\n",
              "        text-align: right;\n",
              "    }\n",
              "</style>\n",
              "<table border=\"1\" class=\"dataframe\">\n",
              "  <thead>\n",
              "    <tr style=\"text-align: right;\">\n",
              "      <th></th>\n",
              "      <th>No.</th>\n",
              "      <th>JenisKelamin</th>\n",
              "      <th>TingkatPendidikan</th>\n",
              "      <th>KeaktifanEkstrakurikuler</th>\n",
              "      <th>PrestasiAkademik</th>\n",
              "    </tr>\n",
              "  </thead>\n",
              "  <tbody>\n",
              "    <tr>\n",
              "      <th>0</th>\n",
              "      <td>1</td>\n",
              "      <td>Laki-laki</td>\n",
              "      <td>SMP</td>\n",
              "      <td>Ya</td>\n",
              "      <td>Baik</td>\n",
              "    </tr>\n",
              "    <tr>\n",
              "      <th>1</th>\n",
              "      <td>2</td>\n",
              "      <td>Perempuan</td>\n",
              "      <td>SMP</td>\n",
              "      <td>Tidak</td>\n",
              "      <td>Cukup Baik</td>\n",
              "    </tr>\n",
              "    <tr>\n",
              "      <th>2</th>\n",
              "      <td>3</td>\n",
              "      <td>Laki-laki</td>\n",
              "      <td>SMP</td>\n",
              "      <td>Ya</td>\n",
              "      <td>Baik</td>\n",
              "    </tr>\n",
              "    <tr>\n",
              "      <th>3</th>\n",
              "      <td>4</td>\n",
              "      <td>Perempuan</td>\n",
              "      <td>SMP</td>\n",
              "      <td>Ya</td>\n",
              "      <td>Baik</td>\n",
              "    </tr>\n",
              "    <tr>\n",
              "      <th>4</th>\n",
              "      <td>5</td>\n",
              "      <td>Laki-laki</td>\n",
              "      <td>SMP</td>\n",
              "      <td>Tidak</td>\n",
              "      <td>Cukup Baik</td>\n",
              "    </tr>\n",
              "  </tbody>\n",
              "</table>\n",
              "</div>\n",
              "      <button class=\"colab-df-convert\" onclick=\"convertToInteractive('df-8ba4da83-5d4b-4652-8ab6-045889703517')\"\n",
              "              title=\"Convert this dataframe to an interactive table.\"\n",
              "              style=\"display:none;\">\n",
              "        \n",
              "  <svg xmlns=\"http://www.w3.org/2000/svg\" height=\"24px\"viewBox=\"0 0 24 24\"\n",
              "       width=\"24px\">\n",
              "    <path d=\"M0 0h24v24H0V0z\" fill=\"none\"/>\n",
              "    <path d=\"M18.56 5.44l.94 2.06.94-2.06 2.06-.94-2.06-.94-.94-2.06-.94 2.06-2.06.94zm-11 1L8.5 8.5l.94-2.06 2.06-.94-2.06-.94L8.5 2.5l-.94 2.06-2.06.94zm10 10l.94 2.06.94-2.06 2.06-.94-2.06-.94-.94-2.06-.94 2.06-2.06.94z\"/><path d=\"M17.41 7.96l-1.37-1.37c-.4-.4-.92-.59-1.43-.59-.52 0-1.04.2-1.43.59L10.3 9.45l-7.72 7.72c-.78.78-.78 2.05 0 2.83L4 21.41c.39.39.9.59 1.41.59.51 0 1.02-.2 1.41-.59l7.78-7.78 2.81-2.81c.8-.78.8-2.07 0-2.86zM5.41 20L4 18.59l7.72-7.72 1.47 1.35L5.41 20z\"/>\n",
              "  </svg>\n",
              "      </button>\n",
              "      \n",
              "  <style>\n",
              "    .colab-df-container {\n",
              "      display:flex;\n",
              "      flex-wrap:wrap;\n",
              "      gap: 12px;\n",
              "    }\n",
              "\n",
              "    .colab-df-convert {\n",
              "      background-color: #E8F0FE;\n",
              "      border: none;\n",
              "      border-radius: 50%;\n",
              "      cursor: pointer;\n",
              "      display: none;\n",
              "      fill: #1967D2;\n",
              "      height: 32px;\n",
              "      padding: 0 0 0 0;\n",
              "      width: 32px;\n",
              "    }\n",
              "\n",
              "    .colab-df-convert:hover {\n",
              "      background-color: #E2EBFA;\n",
              "      box-shadow: 0px 1px 2px rgba(60, 64, 67, 0.3), 0px 1px 3px 1px rgba(60, 64, 67, 0.15);\n",
              "      fill: #174EA6;\n",
              "    }\n",
              "\n",
              "    [theme=dark] .colab-df-convert {\n",
              "      background-color: #3B4455;\n",
              "      fill: #D2E3FC;\n",
              "    }\n",
              "\n",
              "    [theme=dark] .colab-df-convert:hover {\n",
              "      background-color: #434B5C;\n",
              "      box-shadow: 0px 1px 3px 1px rgba(0, 0, 0, 0.15);\n",
              "      filter: drop-shadow(0px 1px 2px rgba(0, 0, 0, 0.3));\n",
              "      fill: #FFFFFF;\n",
              "    }\n",
              "  </style>\n",
              "\n",
              "      <script>\n",
              "        const buttonEl =\n",
              "          document.querySelector('#df-8ba4da83-5d4b-4652-8ab6-045889703517 button.colab-df-convert');\n",
              "        buttonEl.style.display =\n",
              "          google.colab.kernel.accessAllowed ? 'block' : 'none';\n",
              "\n",
              "        async function convertToInteractive(key) {\n",
              "          const element = document.querySelector('#df-8ba4da83-5d4b-4652-8ab6-045889703517');\n",
              "          const dataTable =\n",
              "            await google.colab.kernel.invokeFunction('convertToInteractive',\n",
              "                                                     [key], {});\n",
              "          if (!dataTable) return;\n",
              "\n",
              "          const docLinkHtml = 'Like what you see? Visit the ' +\n",
              "            '<a target=\"_blank\" href=https://colab.research.google.com/notebooks/data_table.ipynb>data table notebook</a>'\n",
              "            + ' to learn more about interactive tables.';\n",
              "          element.innerHTML = '';\n",
              "          dataTable['output_type'] = 'display_data';\n",
              "          await google.colab.output.renderOutput(dataTable, element);\n",
              "          const docLink = document.createElement('div');\n",
              "          docLink.innerHTML = docLinkHtml;\n",
              "          element.appendChild(docLink);\n",
              "        }\n",
              "      </script>\n",
              "    </div>\n",
              "  </div>\n",
              "  "
            ]
          },
          "metadata": {},
          "execution_count": 44
        }
      ]
    },
    {
      "cell_type": "code",
      "source": [
        "# mengubah kelas (kolom) dari string ke unique-Integer\n",
        "dataset[\"PrestasiAkademik\"] = pd.factorize(dataset.PrestasiAkademik)[0]\n"
      ],
      "metadata": {
        "id": "cEJAh67BmK5r"
      },
      "execution_count": null,
      "outputs": []
    },
    {
      "cell_type": "code",
      "source": [
        "# mengubah kelas (INSTITUSI) dari string ke unique-Integer\n",
        "dataset[\"JenisKelamin\"] = pd.factorize(dataset.JenisKelamin)[0]"
      ],
      "metadata": {
        "id": "kFsOnQSNzFvI"
      },
      "execution_count": null,
      "outputs": []
    },
    {
      "cell_type": "code",
      "source": [
        "dataset[\"TingkatPendidikan\"] = pd.factorize(dataset.TingkatPendidikan)[0]"
      ],
      "metadata": {
        "id": "CS73ZM1Z8ZZV"
      },
      "execution_count": null,
      "outputs": []
    },
    {
      "cell_type": "code",
      "source": [
        "dataset[\"KeaktifanEkstrakurikuler\"] = pd.factorize(dataset.KeaktifanEkstrakurikuler)[0]"
      ],
      "metadata": {
        "id": "6M1W7K3T8xi3"
      },
      "execution_count": null,
      "outputs": []
    },
    {
      "cell_type": "code",
      "source": [
        "dataset.head()"
      ],
      "metadata": {
        "colab": {
          "base_uri": "https://localhost:8080/",
          "height": 206
        },
        "id": "MF1UnN5g9Q90",
        "outputId": "5046c00a-c917-40ba-d552-3f95fd47366b"
      },
      "execution_count": null,
      "outputs": [
        {
          "output_type": "execute_result",
          "data": {
            "text/plain": [
              "   No.  JenisKelamin  TingkatPendidikan  KeaktifanEkstrakurikuler  \\\n",
              "0    1             0                  0                         0   \n",
              "1    2             1                  0                         1   \n",
              "2    3             0                  0                         0   \n",
              "3    4             1                  0                         0   \n",
              "4    5             0                  0                         1   \n",
              "\n",
              "   PrestasiAkademik  \n",
              "0                 0  \n",
              "1                 1  \n",
              "2                 0  \n",
              "3                 0  \n",
              "4                 1  "
            ],
            "text/html": [
              "\n",
              "  <div id=\"df-5a1e9294-5077-4b50-a73e-4a1576e0d8a2\">\n",
              "    <div class=\"colab-df-container\">\n",
              "      <div>\n",
              "<style scoped>\n",
              "    .dataframe tbody tr th:only-of-type {\n",
              "        vertical-align: middle;\n",
              "    }\n",
              "\n",
              "    .dataframe tbody tr th {\n",
              "        vertical-align: top;\n",
              "    }\n",
              "\n",
              "    .dataframe thead th {\n",
              "        text-align: right;\n",
              "    }\n",
              "</style>\n",
              "<table border=\"1\" class=\"dataframe\">\n",
              "  <thead>\n",
              "    <tr style=\"text-align: right;\">\n",
              "      <th></th>\n",
              "      <th>No.</th>\n",
              "      <th>JenisKelamin</th>\n",
              "      <th>TingkatPendidikan</th>\n",
              "      <th>KeaktifanEkstrakurikuler</th>\n",
              "      <th>PrestasiAkademik</th>\n",
              "    </tr>\n",
              "  </thead>\n",
              "  <tbody>\n",
              "    <tr>\n",
              "      <th>0</th>\n",
              "      <td>1</td>\n",
              "      <td>0</td>\n",
              "      <td>0</td>\n",
              "      <td>0</td>\n",
              "      <td>0</td>\n",
              "    </tr>\n",
              "    <tr>\n",
              "      <th>1</th>\n",
              "      <td>2</td>\n",
              "      <td>1</td>\n",
              "      <td>0</td>\n",
              "      <td>1</td>\n",
              "      <td>1</td>\n",
              "    </tr>\n",
              "    <tr>\n",
              "      <th>2</th>\n",
              "      <td>3</td>\n",
              "      <td>0</td>\n",
              "      <td>0</td>\n",
              "      <td>0</td>\n",
              "      <td>0</td>\n",
              "    </tr>\n",
              "    <tr>\n",
              "      <th>3</th>\n",
              "      <td>4</td>\n",
              "      <td>1</td>\n",
              "      <td>0</td>\n",
              "      <td>0</td>\n",
              "      <td>0</td>\n",
              "    </tr>\n",
              "    <tr>\n",
              "      <th>4</th>\n",
              "      <td>5</td>\n",
              "      <td>0</td>\n",
              "      <td>0</td>\n",
              "      <td>1</td>\n",
              "      <td>1</td>\n",
              "    </tr>\n",
              "  </tbody>\n",
              "</table>\n",
              "</div>\n",
              "      <button class=\"colab-df-convert\" onclick=\"convertToInteractive('df-5a1e9294-5077-4b50-a73e-4a1576e0d8a2')\"\n",
              "              title=\"Convert this dataframe to an interactive table.\"\n",
              "              style=\"display:none;\">\n",
              "        \n",
              "  <svg xmlns=\"http://www.w3.org/2000/svg\" height=\"24px\"viewBox=\"0 0 24 24\"\n",
              "       width=\"24px\">\n",
              "    <path d=\"M0 0h24v24H0V0z\" fill=\"none\"/>\n",
              "    <path d=\"M18.56 5.44l.94 2.06.94-2.06 2.06-.94-2.06-.94-.94-2.06-.94 2.06-2.06.94zm-11 1L8.5 8.5l.94-2.06 2.06-.94-2.06-.94L8.5 2.5l-.94 2.06-2.06.94zm10 10l.94 2.06.94-2.06 2.06-.94-2.06-.94-.94-2.06-.94 2.06-2.06.94z\"/><path d=\"M17.41 7.96l-1.37-1.37c-.4-.4-.92-.59-1.43-.59-.52 0-1.04.2-1.43.59L10.3 9.45l-7.72 7.72c-.78.78-.78 2.05 0 2.83L4 21.41c.39.39.9.59 1.41.59.51 0 1.02-.2 1.41-.59l7.78-7.78 2.81-2.81c.8-.78.8-2.07 0-2.86zM5.41 20L4 18.59l7.72-7.72 1.47 1.35L5.41 20z\"/>\n",
              "  </svg>\n",
              "      </button>\n",
              "      \n",
              "  <style>\n",
              "    .colab-df-container {\n",
              "      display:flex;\n",
              "      flex-wrap:wrap;\n",
              "      gap: 12px;\n",
              "    }\n",
              "\n",
              "    .colab-df-convert {\n",
              "      background-color: #E8F0FE;\n",
              "      border: none;\n",
              "      border-radius: 50%;\n",
              "      cursor: pointer;\n",
              "      display: none;\n",
              "      fill: #1967D2;\n",
              "      height: 32px;\n",
              "      padding: 0 0 0 0;\n",
              "      width: 32px;\n",
              "    }\n",
              "\n",
              "    .colab-df-convert:hover {\n",
              "      background-color: #E2EBFA;\n",
              "      box-shadow: 0px 1px 2px rgba(60, 64, 67, 0.3), 0px 1px 3px 1px rgba(60, 64, 67, 0.15);\n",
              "      fill: #174EA6;\n",
              "    }\n",
              "\n",
              "    [theme=dark] .colab-df-convert {\n",
              "      background-color: #3B4455;\n",
              "      fill: #D2E3FC;\n",
              "    }\n",
              "\n",
              "    [theme=dark] .colab-df-convert:hover {\n",
              "      background-color: #434B5C;\n",
              "      box-shadow: 0px 1px 3px 1px rgba(0, 0, 0, 0.15);\n",
              "      filter: drop-shadow(0px 1px 2px rgba(0, 0, 0, 0.3));\n",
              "      fill: #FFFFFF;\n",
              "    }\n",
              "  </style>\n",
              "\n",
              "      <script>\n",
              "        const buttonEl =\n",
              "          document.querySelector('#df-5a1e9294-5077-4b50-a73e-4a1576e0d8a2 button.colab-df-convert');\n",
              "        buttonEl.style.display =\n",
              "          google.colab.kernel.accessAllowed ? 'block' : 'none';\n",
              "\n",
              "        async function convertToInteractive(key) {\n",
              "          const element = document.querySelector('#df-5a1e9294-5077-4b50-a73e-4a1576e0d8a2');\n",
              "          const dataTable =\n",
              "            await google.colab.kernel.invokeFunction('convertToInteractive',\n",
              "                                                     [key], {});\n",
              "          if (!dataTable) return;\n",
              "\n",
              "          const docLinkHtml = 'Like what you see? Visit the ' +\n",
              "            '<a target=\"_blank\" href=https://colab.research.google.com/notebooks/data_table.ipynb>data table notebook</a>'\n",
              "            + ' to learn more about interactive tables.';\n",
              "          element.innerHTML = '';\n",
              "          dataTable['output_type'] = 'display_data';\n",
              "          await google.colab.output.renderOutput(dataTable, element);\n",
              "          const docLink = document.createElement('div');\n",
              "          docLink.innerHTML = docLinkHtml;\n",
              "          element.appendChild(docLink);\n",
              "        }\n",
              "      </script>\n",
              "    </div>\n",
              "  </div>\n",
              "  "
            ]
          },
          "metadata": {},
          "execution_count": 49
        }
      ]
    },
    {
      "cell_type": "code",
      "source": [
        "print(dataset)"
      ],
      "metadata": {
        "colab": {
          "base_uri": "https://localhost:8080/"
        },
        "id": "CgaJ_8pe9ar9",
        "outputId": "c4a1d4c4-b533-4dd1-a7cd-43abbf1d4986"
      },
      "execution_count": null,
      "outputs": [
        {
          "output_type": "stream",
          "name": "stdout",
          "text": [
            "   No.  JenisKelamin  TingkatPendidikan  KeaktifanEkstrakurikuler  \\\n",
            "0    1             0                  0                         0   \n",
            "1    2             1                  0                         1   \n",
            "2    3             0                  0                         0   \n",
            "3    4             1                  0                         0   \n",
            "4    5             0                  0                         1   \n",
            "5    6             1                  0                         1   \n",
            "6    7             0                  1                         0   \n",
            "7    8             1                  1                         1   \n",
            "8    9             0                  1                         0   \n",
            "\n",
            "   PrestasiAkademik  \n",
            "0                 0  \n",
            "1                 1  \n",
            "2                 0  \n",
            "3                 0  \n",
            "4                 1  \n",
            "5                 1  \n",
            "6                 0  \n",
            "7                 0  \n",
            "8                 0  \n"
          ]
        }
      ]
    },
    {
      "cell_type": "code",
      "source": [
        "dataset = dataset.to_numpy()"
      ],
      "metadata": {
        "id": "xwPKT0E39oMP"
      },
      "execution_count": null,
      "outputs": []
    },
    {
      "cell_type": "code",
      "source": [
        "print(dataset)"
      ],
      "metadata": {
        "colab": {
          "base_uri": "https://localhost:8080/"
        },
        "id": "RAZ-Gbr9-Q1Q",
        "outputId": "13c3e5e3-5a4d-4167-e7ac-3296c06eff1d"
      },
      "execution_count": null,
      "outputs": [
        {
          "output_type": "stream",
          "name": "stdout",
          "text": [
            "[[1 0 0 0 0]\n",
            " [2 1 0 1 1]\n",
            " [3 0 0 0 0]\n",
            " [4 1 0 0 0]\n",
            " [5 0 0 1 1]\n",
            " [6 1 0 1 1]\n",
            " [7 0 1 0 0]\n",
            " [8 1 1 1 0]\n",
            " [9 0 1 0 0]]\n"
          ]
        }
      ]
    },
    {
      "cell_type": "code",
      "source": [
        "dataTraining = np.concatenate((dataset[0:3, :], dataset[5:8, :]), axis=0)\n",
        "dataTesting = np.concatenate((dataset[3:5, :], dataset[8:9, :]), axis=0)"
      ],
      "metadata": {
        "id": "04QE345JFB_K"
      },
      "execution_count": null,
      "outputs": []
    },
    {
      "cell_type": "code",
      "source": [
        "print(dataTraining)\n",
        "len(dataTraining)"
      ],
      "metadata": {
        "colab": {
          "base_uri": "https://localhost:8080/"
        },
        "id": "z0aQpcH9FXkq",
        "outputId": "0ecab595-c79c-4c65-9ab6-a48b4b8f5f2f"
      },
      "execution_count": null,
      "outputs": [
        {
          "output_type": "stream",
          "name": "stdout",
          "text": [
            "[[1 0 0 0 0]\n",
            " [2 1 0 1 1]\n",
            " [3 0 0 0 0]\n",
            " [6 1 0 1 1]\n",
            " [7 0 1 0 0]\n",
            " [8 1 1 1 0]]\n"
          ]
        },
        {
          "output_type": "execute_result",
          "data": {
            "text/plain": [
              "6"
            ]
          },
          "metadata": {},
          "execution_count": 64
        }
      ]
    },
    {
      "cell_type": "code",
      "source": [
        "inputTraining = dataTraining[:, 0:4]\n",
        "inputTesting = dataTesting[:, 0:4]\n",
        "labelTraining = dataTraining[:, 4]\n",
        "labelTesting = dataTesting[:, 4]\n",
        "print(labelTesting)\n",
        "len(labelTesting)"
      ],
      "metadata": {
        "colab": {
          "base_uri": "https://localhost:8080/"
        },
        "id": "9VVpj4w8F7us",
        "outputId": "32c468ba-7ce7-42be-e5f7-d58f043f6d4c"
      },
      "execution_count": null,
      "outputs": [
        {
          "output_type": "stream",
          "name": "stdout",
          "text": [
            "[0 1 0]\n"
          ]
        },
        {
          "output_type": "execute_result",
          "data": {
            "text/plain": [
              "3"
            ]
          },
          "metadata": {},
          "execution_count": 65
        }
      ]
    },
    {
      "cell_type": "code",
      "source": [
        "model = tree.DecisionTreeClassifier()"
      ],
      "metadata": {
        "id": "0VyBwIMAZLfy"
      },
      "execution_count": null,
      "outputs": []
    },
    {
      "cell_type": "code",
      "source": [
        "model = model.fit(inputTraining, labelTraining)"
      ],
      "metadata": {
        "id": "W-_GH0VeZl6q"
      },
      "execution_count": null,
      "outputs": []
    },
    {
      "cell_type": "code",
      "source": [
        "hasilPrediksi = model.predict(inputTesting)\n",
        "print(\"Label Sebenarnya : \", labelTesting)\n",
        "print(\"Hasil Prediksi : \", hasilPrediksi)"
      ],
      "metadata": {
        "colab": {
          "base_uri": "https://localhost:8080/"
        },
        "id": "Zen9j9Z-b1kB",
        "outputId": "47eeb8b2-bc66-4cea-afb4-d197a8a2e682"
      },
      "execution_count": null,
      "outputs": [
        {
          "output_type": "stream",
          "name": "stdout",
          "text": [
            "Label Sebenarnya :  [0 1 0]\n",
            "Hasil Prediksi :  [1 0 0]\n"
          ]
        }
      ]
    },
    {
      "cell_type": "code",
      "source": [
        "prediksiBenar = (hasilPrediksi == labelTesting).sum()\n",
        "prediksiSalah = (hasilPrediksi != labelTesting).sum()\n",
        "print(\"Prediksi Benar :\", prediksiBenar, \" data\")\n",
        "print(\"Prediksi Salah :\", prediksiSalah, \" data\")\n",
        "print(\"Akurasi :\", prediksiBenar/(prediksiBenar+prediksiSalah) * 100, \" %\")"
      ],
      "metadata": {
        "colab": {
          "base_uri": "https://localhost:8080/"
        },
        "id": "8-UgofsdflMd",
        "outputId": "fdbc1b44-b5fe-411c-e718-0b68c4531d78"
      },
      "execution_count": null,
      "outputs": [
        {
          "output_type": "stream",
          "name": "stdout",
          "text": [
            "Prediksi Benar : 1  data\n",
            "Prediksi Salah : 2  data\n",
            "Akurasi : 33.33333333333333  %\n"
          ]
        }
      ]
    },
    {
      "cell_type": "code",
      "source": [
        "import pydotplus\n",
        "from sklearn import tree\n",
        "dot_data = tree.export_graphviz(model, out_file=None)\n",
        "from IPython.display import Image\n",
        "graph = pydotplus.graph_from_dot_data(dot_data)\n",
        "Image(graph.create_png())\n",
        "graph.write_png('ukai.png')"
      ],
      "metadata": {
        "colab": {
          "base_uri": "https://localhost:8080/"
        },
        "id": "np8uuiycfq9s",
        "outputId": "6d9ad525-5241-456c-e667-118decb66908"
      },
      "execution_count": null,
      "outputs": [
        {
          "output_type": "execute_result",
          "data": {
            "text/plain": [
              "True"
            ]
          },
          "metadata": {},
          "execution_count": 72
        }
      ]
    }
  ]
}